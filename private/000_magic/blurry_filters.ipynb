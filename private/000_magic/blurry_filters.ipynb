{
 "cells": [
  {
   "cell_type": "code",
   "execution_count": null,
   "id": "36a4d241",
   "metadata": {},
   "outputs": [],
   "source": [
    "import numpy as np\n",
    "import scipy\n",
    "from skimage.filters import unsharp_mask\n",
    "import matplotlib.pyplot as plt\n",
    "import os\n",
    "import cv2"
   ]
  },
  {
   "cell_type": "code",
   "execution_count": 3,
   "id": "f0646382",
   "metadata": {},
   "outputs": [],
   "source": [
    "image = plt.imread('../../public/000_magic/blurry_stereogram.png')\n",
    "cv2.imshow('Original Image', image)"
   ]
  },
  {
   "cell_type": "code",
   "execution_count": null,
   "id": "eda723b8",
   "metadata": {
    "scrolled": true
   },
   "outputs": [],
   "source": [
    "# Convert image to grayscale\n",
    "gray = cv2.cvtColor(image, cv2.COLOR_BGR2GRAY)\n",
    "\n",
    "result_1 = unsharp_mask(gray, radius=3, amount=1)\n",
    "result_2 = unsharp_mask(gray, radius=5, amount=2)\n",
    "result_3 = unsharp_mask(gray, radius=20, amount=10)\n",
    "\n",
    "# Apply Gaussian blur to grayscale image\n",
    "blurred = cv2.GaussianBlur(gray, (5, 5), 0)\n",
    "\n",
    "# Calculate the unsharp mask\n",
    "unsharp = cv2.addWeighted(gray, 1.5, blurred, -0.5, 0)\n",
    "\n",
    "# Convert unsharp mask back to color\n",
    "unsharp_color = cv2.cvtColor(unsharp, cv2.COLOR_GRAY2BGR)\n",
    "\n",
    "fig, axes = plt.subplots(nrows=3, ncols=3,\n",
    "                         sharex=True, sharey=True, figsize=(10, 10))\n",
    "ax = axes.ravel()\n",
    "ax[0].imshow(image, cmap=plt.cm.gray)\n",
    "ax[0].set_title('Original image')\n",
    "ax[1].imshow(result_1, cmap=plt.cm.gray)\n",
    "ax[1].set_title('Enhanced image, radius=1, amount=1.0')\n",
    "ax[2].imshow(result_2, cmap=plt.cm.gray)\n",
    "ax[2].set_title('Enhanced image, radius=5, amount=2.0')\n",
    "ax[3].imshow(result_3)\n",
    "ax[3].set_title('Enhanced image, radius=20, amount=10.0')\n",
    "ax[4].imshow(unsharp)\n",
    "ax[4].set_title('Blurred Image')\n",
    "ax[5].imshow(unsharp_color)\n",
    "ax[5].set_title('Unsharp Masked Image')\n",
    "for a in ax:\n",
    "    a.axis('off')\n",
    "fig.tight_layout()\n",
    "plt.show()"
   ]
  },
  {
   "cell_type": "code",
   "execution_count": null,
   "id": "0393b2ed",
   "metadata": {},
   "outputs": [],
   "source": [
    "# convert to save images for use with magic eye solver/viewer\n",
    "result1 = cv2.normalize(result_1, dst=None, alpha=0, beta=255,norm_type=cv2.NORM_MINMAX, dtype=cv2.CV_8U)\n",
    "result2 = cv2.normalize(result_2, dst=None, alpha=0, beta=255,norm_type=cv2.NORM_MINMAX, dtype=cv2.CV_8U)\n",
    "result3 = cv2.normalize(result_3, dst=None, alpha=0, beta=255,norm_type=cv2.NORM_MINMAX, dtype=cv2.CV_8U)\n",
    "unsharpd = cv2.normalize(unsharp, dst=None, alpha=0, beta=255,norm_type=cv2.NORM_MINMAX, dtype=cv2.CV_8U)\n",
    "unsharpd_color = cv2.normalize(unsharpd, dst=None, alpha=0, beta=255,norm_type=cv2.NORM_MINMAX, dtype=cv2.CV_8U)\n",
    "\n",
    "# NOTE: .jpeg??\n",
    "cv2.imwrite('rad3_evil_minion.png',result1)\n",
    "cv2.imwrite('rad5_evil_minion.png',result2)\n",
    "cv2.imwrite('rad50_evil_minion.png',result3)\n",
    "cv2.imwrite('blurmask_evil_minion.png',unsharpd)\n",
    "cv2.imwrite('unsharp_evil_minion.png',unsharpd_color)"
   ]
  }
 ],
 "metadata": {
  "kernelspec": {
   "display_name": "Python 3 (ipykernel)",
   "language": "python",
   "name": "python3"
  },
  "language_info": {
   "codemirror_mode": {
    "name": "ipython",
    "version": 3
   },
   "file_extension": ".py",
   "mimetype": "text/x-python",
   "name": "python",
   "nbconvert_exporter": "python",
   "pygments_lexer": "ipython3",
   "version": "3.11.4"
  }
 },
 "nbformat": 4,
 "nbformat_minor": 5
}
